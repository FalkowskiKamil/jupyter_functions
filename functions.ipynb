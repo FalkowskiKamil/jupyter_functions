{
 "cells": [
  {
   "cell_type": "markdown",
   "id": "302ad10d-0123-487b-b9fc-89b41ccba792",
   "metadata": {},
   "source": [
    "używamy zwrotu \"def\", następnie nazwę funkcji i w nawiasie argumenty jakie przyjmuje dana funkcja, kończymy definiowanie podstawy funkcji dwukropkiem. Następnie w drugiej linijce po tabulatorze wypisujemy naszą funkcję"
   ]
  },
  {
   "cell_type": "code",
   "execution_count": 2,
   "id": "3d2d625d-e667-4dab-badb-a3f38b3f87a9",
   "metadata": {},
   "outputs": [],
   "source": [
    "def add(a,b):\n",
    "    return a+b"
   ]
  },
  {
   "cell_type": "markdown",
   "id": "b14bf78e-65ca-4663-ac7e-d3f51c64d271",
   "metadata": {},
   "source": [
    "aby wywołać funkcję należy podać jej nazwę i w nawiasie liczby które chcemy aby funkcja dodała"
   ]
  },
  {
   "cell_type": "code",
   "execution_count": 3,
   "id": "42a95775-2b73-4b2b-ba59-84078add85cc",
   "metadata": {},
   "outputs": [
    {
     "data": {
      "text/plain": [
       "7"
      ]
     },
     "execution_count": 3,
     "metadata": {},
     "output_type": "execute_result"
    }
   ],
   "source": [
    "add(2,5)"
   ]
  }
 ],
 "metadata": {
  "kernelspec": {
   "display_name": "Python 3 (ipykernel)",
   "language": "python",
   "name": "python3"
  },
  "language_info": {
   "codemirror_mode": {
    "name": "ipython",
    "version": 3
   },
   "file_extension": ".py",
   "mimetype": "text/x-python",
   "name": "python",
   "nbconvert_exporter": "python",
   "pygments_lexer": "ipython3",
   "version": "3.9.13"
  }
 },
 "nbformat": 4,
 "nbformat_minor": 5
}
